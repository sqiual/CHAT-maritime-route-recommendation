{
 "cells": [
  {
   "cell_type": "code",
   "execution_count": null,
   "id": "4a4c3748",
   "metadata": {},
   "outputs": [],
   "source": [
    "###################################\n",
    "#      Raw data preprocessing     #\n",
    "###################################"
   ]
  },
  {
   "cell_type": "code",
   "execution_count": 2,
   "id": "9faeb2d1-3bc9-4221-93f1-de080310e185",
   "metadata": {},
   "outputs": [],
   "source": [
    "# process raw historical AIS data downloaded from DMA (https://dma.dk/safety-at-sea/navigational-information/ais-data)\n",
    "# !python is_preprocessing_noint.py "
   ]
  },
  {
   "cell_type": "code",
   "execution_count": 7,
   "id": "3d609990-888d-4b19-af2c-2f3374b8f59b",
   "metadata": {},
   "outputs": [
    {
     "name": "stdout",
     "output_type": "stream",
     "text": [
      "100%|███████████████████████████████████████████| 90/90 [02:45<00:00,  1.84s/it]\n",
      "total # trajectories: 3119\n",
      "Finished\n"
     ]
    }
   ],
   "source": [
    "# further process datafiles to include datapoints within the desinated geolocation\n",
    "#!python edit_preprocessing.py "
   ]
  },
  {
   "cell_type": "code",
   "execution_count": 13,
   "id": "202b29cb-833d-48f2-91f4-a90292816bcc",
   "metadata": {},
   "outputs": [
    {
     "name": "stdout",
     "output_type": "stream",
     "text": [
      "# of trajectories: 3110\n",
      "100%|██████████████████████████████████████| 3110/3110 [00:19<00:00, 158.05it/s]\n"
     ]
    }
   ],
   "source": [
    "# transfer sequential data into image data\n",
    "# after running traj2img.py, please go to dataset.Mydataset and change the number of hr_img_files, lr_img_files\n",
    "#!python traj2img.py "
   ]
  },
  {
   "cell_type": "code",
   "execution_count": null,
   "id": "ce219e42",
   "metadata": {},
   "outputs": [],
   "source": [
    "###########################################\n",
    "#    Traj Similarity Measurement Module   #\n",
    "###########################################"
   ]
  },
  {
   "cell_type": "code",
   "execution_count": 108,
   "id": "b5e911ce-9bd6-4fba-88f1-79ccbe48c4e5",
   "metadata": {},
   "outputs": [],
   "source": [
    "# start training\n",
    "!python trajsim_train.py"
   ]
  },
  {
   "cell_type": "code",
   "execution_count": null,
   "id": "959a356b",
   "metadata": {},
   "outputs": [],
   "source": [
    "###################################\n",
    "#   Route recommendation Module   #\n",
    "###################################"
   ]
  },
  {
   "cell_type": "code",
   "execution_count": 111,
   "id": "5895fee6-7253-4491-aae0-51369fb28a37",
   "metadata": {},
   "outputs": [],
   "source": [
    "!python recommendation_train.py"
   ]
  },
  {
   "cell_type": "code",
   "execution_count": 114,
   "id": "04aa3aa4-911a-4fde-9a8e-dbefccb251a0",
   "metadata": {},
   "outputs": [],
   "source": [
    "!python recommendation_test.py  "
   ]
  }
 ],
 "metadata": {
  "kernelspec": {
   "display_name": "Python 3 (ipykernel)",
   "language": "python",
   "name": "python3"
  },
  "language_info": {
   "codemirror_mode": {
    "name": "ipython",
    "version": 3
   },
   "file_extension": ".py",
   "mimetype": "text/x-python",
   "name": "python",
   "nbconvert_exporter": "python",
   "pygments_lexer": "ipython3",
   "version": "3.9.13"
  }
 },
 "nbformat": 4,
 "nbformat_minor": 5
}
