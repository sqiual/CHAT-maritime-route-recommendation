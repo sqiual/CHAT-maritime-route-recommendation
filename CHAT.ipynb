{
 "cells": [
  {
   "cell_type": "markdown",
   "id": "9fcde24d",
   "metadata": {},
   "source": [
    "# Prepare Data"
   ]
  },
  {
   "cell_type": "code",
   "execution_count": 9,
   "id": "554d6dff",
   "metadata": {
    "scrolled": false
   },
   "outputs": [
    {
     "name": "stdout",
     "output_type": "stream",
     "text": [
      "100%|███████████████████████████████████| 14754/14754 [00:05<00:00, 2489.98it/s]\n",
      "100%|███████████████████████████████████| 14754/14754 [00:07<00:00, 1860.42it/s]\n",
      "Total # of trajectories: 14754\n",
      "# of trajectories selected for training: 14754\n",
      "Finished processing and segmenting trajectories in lengths of  240.0 minutes\n",
      "11803 trajectories for training\n",
      "2951 trajectories for validation\n"
     ]
    }
   ],
   "source": [
    "# further divide train & val set\n",
    "# perc -> percentage of trajectories selected for training and evaluation \n",
    "!python divide_dataset.py "
   ]
  },
  {
   "cell_type": "code",
   "execution_count": 10,
   "id": "5735511a",
   "metadata": {},
   "outputs": [
    {
     "name": "stdout",
     "output_type": "stream",
     "text": [
      "100%|███████████████████████████████████| 17030/17030 [00:07<00:00, 2424.13it/s]\n",
      "100%|█████████████████████████████████████| 2276/2276 [00:01<00:00, 1903.94it/s]\n",
      "Total # of trajectories: 2276\n",
      "Total # of trajectories: 2276\n",
      "Finished processing and segmenting trajectories in length of  240.0 minutes\n"
     ]
    }
   ],
   "source": [
    "# prepare for the test set\n",
    "!python divide_dataset_test.py "
   ]
  },
  {
   "cell_type": "markdown",
   "id": "b584f076",
   "metadata": {},
   "source": [
    "# Training"
   ]
  },
  {
   "cell_type": "code",
   "execution_count": 15,
   "id": "510034e4",
   "metadata": {},
   "outputs": [],
   "source": [
    "!python ceshi_train.py"
   ]
  },
  {
   "cell_type": "markdown",
   "id": "89545eb8",
   "metadata": {},
   "source": [
    "# Testing"
   ]
  },
  {
   "cell_type": "code",
   "execution_count": 17,
   "id": "f125a5d0",
   "metadata": {},
   "outputs": [],
   "source": [
    "!python ceshi_test.py"
   ]
  }
 ],
 "metadata": {
  "kernelspec": {
   "display_name": "Python 3 (ipykernel)",
   "language": "python",
   "name": "python3"
  },
  "language_info": {
   "codemirror_mode": {
    "name": "ipython",
    "version": 3
   },
   "file_extension": ".py",
   "mimetype": "text/x-python",
   "name": "python",
   "nbconvert_exporter": "python",
   "pygments_lexer": "ipython3",
   "version": "3.9.13"
  }
 },
 "nbformat": 4,
 "nbformat_minor": 5
}
